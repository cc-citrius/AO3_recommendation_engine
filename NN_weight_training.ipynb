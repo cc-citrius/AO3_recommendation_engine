{
 "cells": [
  {
   "cell_type": "markdown",
   "metadata": {},
   "source": [
    "### This notebook trains the weights used in the Nearest-Neighbors algorithm to find the recommendations."
   ]
  },
  {
   "cell_type": "code",
   "execution_count": null,
   "metadata": {},
   "outputs": [],
   "source": [
    "exec(open('ao3_functions.py').read())"
   ]
  },
  {
   "cell_type": "code",
   "execution_count": null,
   "metadata": {},
   "outputs": [],
   "source": [
    "#Sum of pair-wise similarity score\n",
    "def cluster_score(fics,weight):\n",
    "    score = 0.\n",
    "    for i in range(len(fics)-1):\n",
    "        for j in range(i+1,len(fics)):\n",
    "            fic1 = df_fics.loc[[str(fics[i])]].squeeze()\n",
    "            fic2 = df_fics.loc[[str(fics[j])]].squeeze()\n",
    "            #print(type(fic1))\n",
    "            score += score_match(fic1,fic2,weight)\n",
    "    return score\n",
    "\n",
    "#Numerical gradients\n",
    "def get_grad_numerical(func,arg,params,dp = 0.001):\n",
    "    grad = np.zeros(len(weight))\n",
    "    for i in range(len(grad)):\n",
    "        p_dp = np.copy(params)\n",
    "        p_dp[i] += dp\n",
    "        df = func(*arg,p_dp) - func(*arg,params)\n",
    "        grad[i] = df/dp\n",
    "    return grad\n",
    "    "
   ]
  },
  {
   "cell_type": "code",
   "execution_count": null,
   "metadata": {},
   "outputs": [],
   "source": [
    "sample_recs = [6548584,6716065,6668464,6744607,3804184,\n",
    "               3832369,3836875,3873436,3887044,3945310,4003363,\n",
    "               4096294,4034269,4158951,4190988,4224432,4539438,\n",
    "               4425287,4239123,6361714,6439033,5499590,\n",
    "               4837397,4952515]\n",
    "step = 0.01\n",
    "weight = np.ones(8)/np.linalg.norm(weight)\n",
    "#weight = [0.16283571, 0.38529488, 0.55786884, 0.38529488, 0.19072126, 0.19072126,0.54049211, 0.02194748]\n",
    "for _ in range(10):\n",
    "    grad = get_grad_numerical(cluster_score,[sample_recs],weight)\n",
    "    print(grad)\n",
    "    weight = weight - step*grad/np.linalg.norm(grad)\n",
    "    weight = weight/np.linalg.norm(weight)\n",
    "    print(weight)\n",
    "    score = cluster_score(sample_recs,weight)\n",
    "    print(score)"
   ]
  }
 ],
 "metadata": {
  "kernelspec": {
   "display_name": "Python 3",
   "language": "python",
   "name": "python3"
  },
  "language_info": {
   "codemirror_mode": {
    "name": "ipython",
    "version": 3
   },
   "file_extension": ".py",
   "mimetype": "text/x-python",
   "name": "python",
   "nbconvert_exporter": "python",
   "pygments_lexer": "ipython3",
   "version": "3.6.4"
  }
 },
 "nbformat": 4,
 "nbformat_minor": 2
}
