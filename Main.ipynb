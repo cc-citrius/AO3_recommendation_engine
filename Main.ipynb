{
 "cells": [
  {
   "cell_type": "markdown",
   "metadata": {},
   "source": [
    "# What should I read next? \n",
    "# A.K.A a recommendation engine for ArchiveOfOurOwn.org."
   ]
  },
  {
   "cell_type": "markdown",
   "metadata": {},
   "source": [
    "Let's get started :3  Run the following cell to set things up. ao3_functions.py includes all the functions for this notebook."
   ]
  },
  {
   "cell_type": "code",
   "execution_count": null,
   "metadata": {},
   "outputs": [],
   "source": [
    "exec(open('ao3_functions.py').read())"
   ]
  },
  {
   "cell_type": "markdown",
   "metadata": {},
   "source": [
    "Please write down the fandom page you're reading about on AO3.\n",
    "e.g. if you're reading about Adventure Time, enter this:\n",
    "https://archiveofourown.org/tags/Adventure%20Time/works"
   ]
  },
  {
   "cell_type": "code",
   "execution_count": null,
   "metadata": {},
   "outputs": [],
   "source": [
    "#url = 'https://archiveofourown.org/tags/Adventure%20Time/works'\n",
    "url = '...'"
   ]
  },
  {
   "cell_type": "markdown",
   "metadata": {},
   "source": [
    "Run below to generate a webpage list for scraping..."
   ]
  },
  {
   "cell_type": "code",
   "execution_count": null,
   "metadata": {},
   "outputs": [],
   "source": [
    "gen_pagelist(url)"
   ]
  },
  {
   "cell_type": "markdown",
   "metadata": {},
   "source": [
    "Scrape information from html on multiple processors. This should take less than 60 seconds. All the information are stored in a Pandas Dataframe."
   ]
  },
  {
   "cell_type": "code",
   "execution_count": null,
   "metadata": {},
   "outputs": [],
   "source": [
    "!python3 scraping_threading.py scraping_input.txt "
   ]
  },
  {
   "cell_type": "markdown",
   "metadata": {},
   "source": [
    "You just built your very own AO3 database! Now paste the link of a fic you just read to the cell below."
   ]
  },
  {
   "cell_type": "code",
   "execution_count": null,
   "metadata": {},
   "outputs": [],
   "source": [
    "#furl = \"https://archiveofourown.org/works/300055\"\n",
    "furl = ..."
   ]
  },
  {
   "cell_type": "markdown",
   "metadata": {},
   "source": [
    "And enjoy more works similar to this one! This function fetches entries from the dataframe built by last step, computes a similarity score to the work given, and a popularity score of its own. 10 works with the highest similarity scores are chosen, from which five works with the highest popularity score are outputed below. Check ao3_functions.py to see how the similarity/popularity scores are computed."
   ]
  },
  {
   "cell_type": "code",
   "execution_count": null,
   "metadata": {},
   "outputs": [],
   "source": [
    "df_fics = dill.load(open('fics_info.pkd', 'rb'))\n",
    "find_rec(furl,df_fics)"
   ]
  },
  {
   "cell_type": "markdown",
   "metadata": {},
   "source": [
    "Done reading? You can also see some interesting fandometrics here. Data are analyzed for the data and results plotted on the fly. "
   ]
  },
  {
   "cell_type": "code",
   "execution_count": null,
   "metadata": {},
   "outputs": [],
   "source": [
    "fig, ax = plt.subplots(2,2,figsize=(18, 16))\n",
    "plot_ratings(df_fics,ax[0,0])\n",
    "plot_slashtype(df_fics,ax[0,1])\n",
    "popular_char(df_fics,ax[1,0])\n",
    "plot_unfinished(df_fics,ax[1,1])\n",
    "ax[1,1].legend()"
   ]
  },
  {
   "cell_type": "code",
   "execution_count": null,
   "metadata": {},
   "outputs": [],
   "source": []
  }
 ],
 "metadata": {
  "kernelspec": {
   "display_name": "Python 3",
   "language": "python",
   "name": "python3"
  },
  "language_info": {
   "codemirror_mode": {
    "name": "ipython",
    "version": 3
   },
   "file_extension": ".py",
   "mimetype": "text/x-python",
   "name": "python",
   "nbconvert_exporter": "python",
   "pygments_lexer": "ipython3",
   "version": "3.6.4"
  }
 },
 "nbformat": 4,
 "nbformat_minor": 2
}
